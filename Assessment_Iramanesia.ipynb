{
  "nbformat": 4,
  "nbformat_minor": 0,
  "metadata": {
    "colab": {
      "provenance": []
    },
    "kernelspec": {
      "name": "python3",
      "display_name": "Python 3"
    },
    "language_info": {
      "name": "python"
    }
  },
  "cells": [
    {
      "cell_type": "markdown",
      "source": [
        "## Import"
      ],
      "metadata": {
        "id": "9cwsJP2_RNA2"
      }
    },
    {
      "cell_type": "code",
      "execution_count": 1,
      "metadata": {
        "id": "ttcLX07hiNN6"
      },
      "outputs": [],
      "source": [
        "import pandas as pd\n",
        "import seaborn as sns\n",
        "import matplotlib.pyplot as plt\n",
        "from sklearn.metrics.pairwise import cosine_similarity"
      ]
    },
    {
      "cell_type": "code",
      "source": [
        "df = pd.read_excel(\"/content/drive/MyDrive/MBKM/Streaming Data Dummy.xlsx\")"
      ],
      "metadata": {
        "id": "tqS4CMJclHWA"
      },
      "execution_count": 2,
      "outputs": []
    },
    {
      "cell_type": "markdown",
      "source": [
        "## EDA"
      ],
      "metadata": {
        "id": "PlentT4am3ax"
      }
    },
    {
      "cell_type": "code",
      "source": [
        "df.head()"
      ],
      "metadata": {
        "colab": {
          "base_uri": "https://localhost:8080/",
          "height": 206
        },
        "id": "HskHT86Cmx37",
        "outputId": "97d2699e-6dcb-4fcc-c0bd-4e35b0a869a7"
      },
      "execution_count": 3,
      "outputs": [
        {
          "output_type": "execute_result",
          "data": {
            "text/plain": [
              "               Nama  Spotify Streams  Youtube Music Plays  Joox Streams  \\\n",
              "0      Difki Khalif              659                10942          1479   \n",
              "1        Aziz Hedra              682                14356           702   \n",
              "2     Rangga Damara             1131                 7386          3102   \n",
              "3            Devano             1353                 2227          3459   \n",
              "4  Isyana Sarasvati             2193                14202          2514   \n",
              "\n",
              "   Apple Music Streams  \n",
              "0                17919  \n",
              "1                 8607  \n",
              "2                 7514  \n",
              "3                16609  \n",
              "4                 9819  "
            ],
            "text/html": [
              "\n",
              "  <div id=\"df-80b93b01-e487-4dfd-85f1-8649bf8214de\" class=\"colab-df-container\">\n",
              "    <div>\n",
              "<style scoped>\n",
              "    .dataframe tbody tr th:only-of-type {\n",
              "        vertical-align: middle;\n",
              "    }\n",
              "\n",
              "    .dataframe tbody tr th {\n",
              "        vertical-align: top;\n",
              "    }\n",
              "\n",
              "    .dataframe thead th {\n",
              "        text-align: right;\n",
              "    }\n",
              "</style>\n",
              "<table border=\"1\" class=\"dataframe\">\n",
              "  <thead>\n",
              "    <tr style=\"text-align: right;\">\n",
              "      <th></th>\n",
              "      <th>Nama</th>\n",
              "      <th>Spotify Streams</th>\n",
              "      <th>Youtube Music Plays</th>\n",
              "      <th>Joox Streams</th>\n",
              "      <th>Apple Music Streams</th>\n",
              "    </tr>\n",
              "  </thead>\n",
              "  <tbody>\n",
              "    <tr>\n",
              "      <th>0</th>\n",
              "      <td>Difki Khalif</td>\n",
              "      <td>659</td>\n",
              "      <td>10942</td>\n",
              "      <td>1479</td>\n",
              "      <td>17919</td>\n",
              "    </tr>\n",
              "    <tr>\n",
              "      <th>1</th>\n",
              "      <td>Aziz Hedra</td>\n",
              "      <td>682</td>\n",
              "      <td>14356</td>\n",
              "      <td>702</td>\n",
              "      <td>8607</td>\n",
              "    </tr>\n",
              "    <tr>\n",
              "      <th>2</th>\n",
              "      <td>Rangga Damara</td>\n",
              "      <td>1131</td>\n",
              "      <td>7386</td>\n",
              "      <td>3102</td>\n",
              "      <td>7514</td>\n",
              "    </tr>\n",
              "    <tr>\n",
              "      <th>3</th>\n",
              "      <td>Devano</td>\n",
              "      <td>1353</td>\n",
              "      <td>2227</td>\n",
              "      <td>3459</td>\n",
              "      <td>16609</td>\n",
              "    </tr>\n",
              "    <tr>\n",
              "      <th>4</th>\n",
              "      <td>Isyana Sarasvati</td>\n",
              "      <td>2193</td>\n",
              "      <td>14202</td>\n",
              "      <td>2514</td>\n",
              "      <td>9819</td>\n",
              "    </tr>\n",
              "  </tbody>\n",
              "</table>\n",
              "</div>\n",
              "    <div class=\"colab-df-buttons\">\n",
              "\n",
              "  <div class=\"colab-df-container\">\n",
              "    <button class=\"colab-df-convert\" onclick=\"convertToInteractive('df-80b93b01-e487-4dfd-85f1-8649bf8214de')\"\n",
              "            title=\"Convert this dataframe to an interactive table.\"\n",
              "            style=\"display:none;\">\n",
              "\n",
              "  <svg xmlns=\"http://www.w3.org/2000/svg\" height=\"24px\" viewBox=\"0 -960 960 960\">\n",
              "    <path d=\"M120-120v-720h720v720H120Zm60-500h600v-160H180v160Zm220 220h160v-160H400v160Zm0 220h160v-160H400v160ZM180-400h160v-160H180v160Zm440 0h160v-160H620v160ZM180-180h160v-160H180v160Zm440 0h160v-160H620v160Z\"/>\n",
              "  </svg>\n",
              "    </button>\n",
              "\n",
              "  <style>\n",
              "    .colab-df-container {\n",
              "      display:flex;\n",
              "      gap: 12px;\n",
              "    }\n",
              "\n",
              "    .colab-df-convert {\n",
              "      background-color: #E8F0FE;\n",
              "      border: none;\n",
              "      border-radius: 50%;\n",
              "      cursor: pointer;\n",
              "      display: none;\n",
              "      fill: #1967D2;\n",
              "      height: 32px;\n",
              "      padding: 0 0 0 0;\n",
              "      width: 32px;\n",
              "    }\n",
              "\n",
              "    .colab-df-convert:hover {\n",
              "      background-color: #E2EBFA;\n",
              "      box-shadow: 0px 1px 2px rgba(60, 64, 67, 0.3), 0px 1px 3px 1px rgba(60, 64, 67, 0.15);\n",
              "      fill: #174EA6;\n",
              "    }\n",
              "\n",
              "    .colab-df-buttons div {\n",
              "      margin-bottom: 4px;\n",
              "    }\n",
              "\n",
              "    [theme=dark] .colab-df-convert {\n",
              "      background-color: #3B4455;\n",
              "      fill: #D2E3FC;\n",
              "    }\n",
              "\n",
              "    [theme=dark] .colab-df-convert:hover {\n",
              "      background-color: #434B5C;\n",
              "      box-shadow: 0px 1px 3px 1px rgba(0, 0, 0, 0.15);\n",
              "      filter: drop-shadow(0px 1px 2px rgba(0, 0, 0, 0.3));\n",
              "      fill: #FFFFFF;\n",
              "    }\n",
              "  </style>\n",
              "\n",
              "    <script>\n",
              "      const buttonEl =\n",
              "        document.querySelector('#df-80b93b01-e487-4dfd-85f1-8649bf8214de button.colab-df-convert');\n",
              "      buttonEl.style.display =\n",
              "        google.colab.kernel.accessAllowed ? 'block' : 'none';\n",
              "\n",
              "      async function convertToInteractive(key) {\n",
              "        const element = document.querySelector('#df-80b93b01-e487-4dfd-85f1-8649bf8214de');\n",
              "        const dataTable =\n",
              "          await google.colab.kernel.invokeFunction('convertToInteractive',\n",
              "                                                    [key], {});\n",
              "        if (!dataTable) return;\n",
              "\n",
              "        const docLinkHtml = 'Like what you see? Visit the ' +\n",
              "          '<a target=\"_blank\" href=https://colab.research.google.com/notebooks/data_table.ipynb>data table notebook</a>'\n",
              "          + ' to learn more about interactive tables.';\n",
              "        element.innerHTML = '';\n",
              "        dataTable['output_type'] = 'display_data';\n",
              "        await google.colab.output.renderOutput(dataTable, element);\n",
              "        const docLink = document.createElement('div');\n",
              "        docLink.innerHTML = docLinkHtml;\n",
              "        element.appendChild(docLink);\n",
              "      }\n",
              "    </script>\n",
              "  </div>\n",
              "\n",
              "\n",
              "<div id=\"df-4e98efea-4d95-4279-a36c-8db2d8c641fe\">\n",
              "  <button class=\"colab-df-quickchart\" onclick=\"quickchart('df-4e98efea-4d95-4279-a36c-8db2d8c641fe')\"\n",
              "            title=\"Suggest charts\"\n",
              "            style=\"display:none;\">\n",
              "\n",
              "<svg xmlns=\"http://www.w3.org/2000/svg\" height=\"24px\"viewBox=\"0 0 24 24\"\n",
              "     width=\"24px\">\n",
              "    <g>\n",
              "        <path d=\"M19 3H5c-1.1 0-2 .9-2 2v14c0 1.1.9 2 2 2h14c1.1 0 2-.9 2-2V5c0-1.1-.9-2-2-2zM9 17H7v-7h2v7zm4 0h-2V7h2v10zm4 0h-2v-4h2v4z\"/>\n",
              "    </g>\n",
              "</svg>\n",
              "  </button>\n",
              "\n",
              "<style>\n",
              "  .colab-df-quickchart {\n",
              "      --bg-color: #E8F0FE;\n",
              "      --fill-color: #1967D2;\n",
              "      --hover-bg-color: #E2EBFA;\n",
              "      --hover-fill-color: #174EA6;\n",
              "      --disabled-fill-color: #AAA;\n",
              "      --disabled-bg-color: #DDD;\n",
              "  }\n",
              "\n",
              "  [theme=dark] .colab-df-quickchart {\n",
              "      --bg-color: #3B4455;\n",
              "      --fill-color: #D2E3FC;\n",
              "      --hover-bg-color: #434B5C;\n",
              "      --hover-fill-color: #FFFFFF;\n",
              "      --disabled-bg-color: #3B4455;\n",
              "      --disabled-fill-color: #666;\n",
              "  }\n",
              "\n",
              "  .colab-df-quickchart {\n",
              "    background-color: var(--bg-color);\n",
              "    border: none;\n",
              "    border-radius: 50%;\n",
              "    cursor: pointer;\n",
              "    display: none;\n",
              "    fill: var(--fill-color);\n",
              "    height: 32px;\n",
              "    padding: 0;\n",
              "    width: 32px;\n",
              "  }\n",
              "\n",
              "  .colab-df-quickchart:hover {\n",
              "    background-color: var(--hover-bg-color);\n",
              "    box-shadow: 0 1px 2px rgba(60, 64, 67, 0.3), 0 1px 3px 1px rgba(60, 64, 67, 0.15);\n",
              "    fill: var(--button-hover-fill-color);\n",
              "  }\n",
              "\n",
              "  .colab-df-quickchart-complete:disabled,\n",
              "  .colab-df-quickchart-complete:disabled:hover {\n",
              "    background-color: var(--disabled-bg-color);\n",
              "    fill: var(--disabled-fill-color);\n",
              "    box-shadow: none;\n",
              "  }\n",
              "\n",
              "  .colab-df-spinner {\n",
              "    border: 2px solid var(--fill-color);\n",
              "    border-color: transparent;\n",
              "    border-bottom-color: var(--fill-color);\n",
              "    animation:\n",
              "      spin 1s steps(1) infinite;\n",
              "  }\n",
              "\n",
              "  @keyframes spin {\n",
              "    0% {\n",
              "      border-color: transparent;\n",
              "      border-bottom-color: var(--fill-color);\n",
              "      border-left-color: var(--fill-color);\n",
              "    }\n",
              "    20% {\n",
              "      border-color: transparent;\n",
              "      border-left-color: var(--fill-color);\n",
              "      border-top-color: var(--fill-color);\n",
              "    }\n",
              "    30% {\n",
              "      border-color: transparent;\n",
              "      border-left-color: var(--fill-color);\n",
              "      border-top-color: var(--fill-color);\n",
              "      border-right-color: var(--fill-color);\n",
              "    }\n",
              "    40% {\n",
              "      border-color: transparent;\n",
              "      border-right-color: var(--fill-color);\n",
              "      border-top-color: var(--fill-color);\n",
              "    }\n",
              "    60% {\n",
              "      border-color: transparent;\n",
              "      border-right-color: var(--fill-color);\n",
              "    }\n",
              "    80% {\n",
              "      border-color: transparent;\n",
              "      border-right-color: var(--fill-color);\n",
              "      border-bottom-color: var(--fill-color);\n",
              "    }\n",
              "    90% {\n",
              "      border-color: transparent;\n",
              "      border-bottom-color: var(--fill-color);\n",
              "    }\n",
              "  }\n",
              "</style>\n",
              "\n",
              "  <script>\n",
              "    async function quickchart(key) {\n",
              "      const quickchartButtonEl =\n",
              "        document.querySelector('#' + key + ' button');\n",
              "      quickchartButtonEl.disabled = true;  // To prevent multiple clicks.\n",
              "      quickchartButtonEl.classList.add('colab-df-spinner');\n",
              "      try {\n",
              "        const charts = await google.colab.kernel.invokeFunction(\n",
              "            'suggestCharts', [key], {});\n",
              "      } catch (error) {\n",
              "        console.error('Error during call to suggestCharts:', error);\n",
              "      }\n",
              "      quickchartButtonEl.classList.remove('colab-df-spinner');\n",
              "      quickchartButtonEl.classList.add('colab-df-quickchart-complete');\n",
              "    }\n",
              "    (() => {\n",
              "      let quickchartButtonEl =\n",
              "        document.querySelector('#df-4e98efea-4d95-4279-a36c-8db2d8c641fe button');\n",
              "      quickchartButtonEl.style.display =\n",
              "        google.colab.kernel.accessAllowed ? 'block' : 'none';\n",
              "    })();\n",
              "  </script>\n",
              "</div>\n",
              "\n",
              "    </div>\n",
              "  </div>\n"
            ],
            "application/vnd.google.colaboratory.intrinsic+json": {
              "type": "dataframe",
              "variable_name": "df",
              "summary": "{\n  \"name\": \"df\",\n  \"rows\": 175,\n  \"fields\": [\n    {\n      \"column\": \"Nama\",\n      \"properties\": {\n        \"dtype\": \"string\",\n        \"num_unique_values\": 175,\n        \"samples\": [\n          \"Ari Lasso\",\n          \"Jevin Julian\",\n          \"Dialog Senja\"\n        ],\n        \"semantic_type\": \"\",\n        \"description\": \"\"\n      }\n    },\n    {\n      \"column\": \"Spotify Streams\",\n      \"properties\": {\n        \"dtype\": \"number\",\n        \"std\": 28407,\n        \"min\": 659,\n        \"max\": 98729,\n        \"num_unique_values\": 175,\n        \"samples\": [\n          91538,\n          79982,\n          58438\n        ],\n        \"semantic_type\": \"\",\n        \"description\": \"\"\n      }\n    },\n    {\n      \"column\": \"Youtube Music Plays\",\n      \"properties\": {\n        \"dtype\": \"number\",\n        \"std\": 4252,\n        \"min\": 72,\n        \"max\": 14846,\n        \"num_unique_values\": 175,\n        \"samples\": [\n          9610,\n          13918,\n          13716\n        ],\n        \"semantic_type\": \"\",\n        \"description\": \"\"\n      }\n    },\n    {\n      \"column\": \"Joox Streams\",\n      \"properties\": {\n        \"dtype\": \"number\",\n        \"std\": 1443,\n        \"min\": 36,\n        \"max\": 4966,\n        \"num_unique_values\": 174,\n        \"samples\": [\n          776,\n          2206,\n          4093\n        ],\n        \"semantic_type\": \"\",\n        \"description\": \"\"\n      }\n    },\n    {\n      \"column\": \"Apple Music Streams\",\n      \"properties\": {\n        \"dtype\": \"number\",\n        \"std\": 5744,\n        \"min\": 256,\n        \"max\": 19956,\n        \"num_unique_values\": 174,\n        \"samples\": [\n          7816,\n          4992,\n          12541\n        ],\n        \"semantic_type\": \"\",\n        \"description\": \"\"\n      }\n    }\n  ]\n}"
            }
          },
          "metadata": {},
          "execution_count": 3
        }
      ]
    },
    {
      "cell_type": "code",
      "source": [
        "df.shape"
      ],
      "metadata": {
        "colab": {
          "base_uri": "https://localhost:8080/"
        },
        "id": "Ts9BNMaCm7CT",
        "outputId": "c6fdd669-bfd5-4aea-a597-363343b889bb"
      },
      "execution_count": 4,
      "outputs": [
        {
          "output_type": "execute_result",
          "data": {
            "text/plain": [
              "(175, 5)"
            ]
          },
          "metadata": {},
          "execution_count": 4
        }
      ]
    },
    {
      "cell_type": "code",
      "source": [
        "df.info()"
      ],
      "metadata": {
        "colab": {
          "base_uri": "https://localhost:8080/"
        },
        "id": "buJrmUEsnAEs",
        "outputId": "ec940872-d46b-479e-e73a-aa518d4a8d04"
      },
      "execution_count": 5,
      "outputs": [
        {
          "output_type": "stream",
          "name": "stdout",
          "text": [
            "<class 'pandas.core.frame.DataFrame'>\n",
            "RangeIndex: 175 entries, 0 to 174\n",
            "Data columns (total 5 columns):\n",
            " #   Column               Non-Null Count  Dtype \n",
            "---  ------               --------------  ----- \n",
            " 0   Nama                 175 non-null    object\n",
            " 1   Spotify Streams      175 non-null    int64 \n",
            " 2   Youtube Music Plays  175 non-null    int64 \n",
            " 3   Joox Streams         175 non-null    int64 \n",
            " 4   Apple Music Streams  175 non-null    int64 \n",
            "dtypes: int64(4), object(1)\n",
            "memory usage: 7.0+ KB\n"
          ]
        }
      ]
    },
    {
      "cell_type": "code",
      "source": [
        "df.describe()"
      ],
      "metadata": {
        "colab": {
          "base_uri": "https://localhost:8080/",
          "height": 300
        },
        "id": "NnFE91IxnGnz",
        "outputId": "b11f50af-61e1-4fdc-a492-db8a8cefeb31"
      },
      "execution_count": 6,
      "outputs": [
        {
          "output_type": "execute_result",
          "data": {
            "text/plain": [
              "       Spotify Streams  Youtube Music Plays  Joox Streams  Apple Music Streams\n",
              "count       175.000000           175.000000     175.00000           175.000000\n",
              "mean      50741.365714          7723.754286    2469.08000          9324.068571\n",
              "std       28407.452301          4252.336775    1443.10897          5744.602381\n",
              "min         659.000000            72.000000      36.00000           256.000000\n",
              "25%       27720.500000          3821.500000    1199.50000          4017.500000\n",
              "50%       50424.000000          8106.000000    2560.00000          8951.000000\n",
              "75%       73266.000000         11341.500000    3570.00000         13869.000000\n",
              "max       98729.000000         14846.000000    4966.00000         19956.000000"
            ],
            "text/html": [
              "\n",
              "  <div id=\"df-08700dae-8889-4dbf-aac5-8eec94dc21d0\" class=\"colab-df-container\">\n",
              "    <div>\n",
              "<style scoped>\n",
              "    .dataframe tbody tr th:only-of-type {\n",
              "        vertical-align: middle;\n",
              "    }\n",
              "\n",
              "    .dataframe tbody tr th {\n",
              "        vertical-align: top;\n",
              "    }\n",
              "\n",
              "    .dataframe thead th {\n",
              "        text-align: right;\n",
              "    }\n",
              "</style>\n",
              "<table border=\"1\" class=\"dataframe\">\n",
              "  <thead>\n",
              "    <tr style=\"text-align: right;\">\n",
              "      <th></th>\n",
              "      <th>Spotify Streams</th>\n",
              "      <th>Youtube Music Plays</th>\n",
              "      <th>Joox Streams</th>\n",
              "      <th>Apple Music Streams</th>\n",
              "    </tr>\n",
              "  </thead>\n",
              "  <tbody>\n",
              "    <tr>\n",
              "      <th>count</th>\n",
              "      <td>175.000000</td>\n",
              "      <td>175.000000</td>\n",
              "      <td>175.00000</td>\n",
              "      <td>175.000000</td>\n",
              "    </tr>\n",
              "    <tr>\n",
              "      <th>mean</th>\n",
              "      <td>50741.365714</td>\n",
              "      <td>7723.754286</td>\n",
              "      <td>2469.08000</td>\n",
              "      <td>9324.068571</td>\n",
              "    </tr>\n",
              "    <tr>\n",
              "      <th>std</th>\n",
              "      <td>28407.452301</td>\n",
              "      <td>4252.336775</td>\n",
              "      <td>1443.10897</td>\n",
              "      <td>5744.602381</td>\n",
              "    </tr>\n",
              "    <tr>\n",
              "      <th>min</th>\n",
              "      <td>659.000000</td>\n",
              "      <td>72.000000</td>\n",
              "      <td>36.00000</td>\n",
              "      <td>256.000000</td>\n",
              "    </tr>\n",
              "    <tr>\n",
              "      <th>25%</th>\n",
              "      <td>27720.500000</td>\n",
              "      <td>3821.500000</td>\n",
              "      <td>1199.50000</td>\n",
              "      <td>4017.500000</td>\n",
              "    </tr>\n",
              "    <tr>\n",
              "      <th>50%</th>\n",
              "      <td>50424.000000</td>\n",
              "      <td>8106.000000</td>\n",
              "      <td>2560.00000</td>\n",
              "      <td>8951.000000</td>\n",
              "    </tr>\n",
              "    <tr>\n",
              "      <th>75%</th>\n",
              "      <td>73266.000000</td>\n",
              "      <td>11341.500000</td>\n",
              "      <td>3570.00000</td>\n",
              "      <td>13869.000000</td>\n",
              "    </tr>\n",
              "    <tr>\n",
              "      <th>max</th>\n",
              "      <td>98729.000000</td>\n",
              "      <td>14846.000000</td>\n",
              "      <td>4966.00000</td>\n",
              "      <td>19956.000000</td>\n",
              "    </tr>\n",
              "  </tbody>\n",
              "</table>\n",
              "</div>\n",
              "    <div class=\"colab-df-buttons\">\n",
              "\n",
              "  <div class=\"colab-df-container\">\n",
              "    <button class=\"colab-df-convert\" onclick=\"convertToInteractive('df-08700dae-8889-4dbf-aac5-8eec94dc21d0')\"\n",
              "            title=\"Convert this dataframe to an interactive table.\"\n",
              "            style=\"display:none;\">\n",
              "\n",
              "  <svg xmlns=\"http://www.w3.org/2000/svg\" height=\"24px\" viewBox=\"0 -960 960 960\">\n",
              "    <path d=\"M120-120v-720h720v720H120Zm60-500h600v-160H180v160Zm220 220h160v-160H400v160Zm0 220h160v-160H400v160ZM180-400h160v-160H180v160Zm440 0h160v-160H620v160ZM180-180h160v-160H180v160Zm440 0h160v-160H620v160Z\"/>\n",
              "  </svg>\n",
              "    </button>\n",
              "\n",
              "  <style>\n",
              "    .colab-df-container {\n",
              "      display:flex;\n",
              "      gap: 12px;\n",
              "    }\n",
              "\n",
              "    .colab-df-convert {\n",
              "      background-color: #E8F0FE;\n",
              "      border: none;\n",
              "      border-radius: 50%;\n",
              "      cursor: pointer;\n",
              "      display: none;\n",
              "      fill: #1967D2;\n",
              "      height: 32px;\n",
              "      padding: 0 0 0 0;\n",
              "      width: 32px;\n",
              "    }\n",
              "\n",
              "    .colab-df-convert:hover {\n",
              "      background-color: #E2EBFA;\n",
              "      box-shadow: 0px 1px 2px rgba(60, 64, 67, 0.3), 0px 1px 3px 1px rgba(60, 64, 67, 0.15);\n",
              "      fill: #174EA6;\n",
              "    }\n",
              "\n",
              "    .colab-df-buttons div {\n",
              "      margin-bottom: 4px;\n",
              "    }\n",
              "\n",
              "    [theme=dark] .colab-df-convert {\n",
              "      background-color: #3B4455;\n",
              "      fill: #D2E3FC;\n",
              "    }\n",
              "\n",
              "    [theme=dark] .colab-df-convert:hover {\n",
              "      background-color: #434B5C;\n",
              "      box-shadow: 0px 1px 3px 1px rgba(0, 0, 0, 0.15);\n",
              "      filter: drop-shadow(0px 1px 2px rgba(0, 0, 0, 0.3));\n",
              "      fill: #FFFFFF;\n",
              "    }\n",
              "  </style>\n",
              "\n",
              "    <script>\n",
              "      const buttonEl =\n",
              "        document.querySelector('#df-08700dae-8889-4dbf-aac5-8eec94dc21d0 button.colab-df-convert');\n",
              "      buttonEl.style.display =\n",
              "        google.colab.kernel.accessAllowed ? 'block' : 'none';\n",
              "\n",
              "      async function convertToInteractive(key) {\n",
              "        const element = document.querySelector('#df-08700dae-8889-4dbf-aac5-8eec94dc21d0');\n",
              "        const dataTable =\n",
              "          await google.colab.kernel.invokeFunction('convertToInteractive',\n",
              "                                                    [key], {});\n",
              "        if (!dataTable) return;\n",
              "\n",
              "        const docLinkHtml = 'Like what you see? Visit the ' +\n",
              "          '<a target=\"_blank\" href=https://colab.research.google.com/notebooks/data_table.ipynb>data table notebook</a>'\n",
              "          + ' to learn more about interactive tables.';\n",
              "        element.innerHTML = '';\n",
              "        dataTable['output_type'] = 'display_data';\n",
              "        await google.colab.output.renderOutput(dataTable, element);\n",
              "        const docLink = document.createElement('div');\n",
              "        docLink.innerHTML = docLinkHtml;\n",
              "        element.appendChild(docLink);\n",
              "      }\n",
              "    </script>\n",
              "  </div>\n",
              "\n",
              "\n",
              "<div id=\"df-10d77961-3432-4841-aa50-d734b56bbd83\">\n",
              "  <button class=\"colab-df-quickchart\" onclick=\"quickchart('df-10d77961-3432-4841-aa50-d734b56bbd83')\"\n",
              "            title=\"Suggest charts\"\n",
              "            style=\"display:none;\">\n",
              "\n",
              "<svg xmlns=\"http://www.w3.org/2000/svg\" height=\"24px\"viewBox=\"0 0 24 24\"\n",
              "     width=\"24px\">\n",
              "    <g>\n",
              "        <path d=\"M19 3H5c-1.1 0-2 .9-2 2v14c0 1.1.9 2 2 2h14c1.1 0 2-.9 2-2V5c0-1.1-.9-2-2-2zM9 17H7v-7h2v7zm4 0h-2V7h2v10zm4 0h-2v-4h2v4z\"/>\n",
              "    </g>\n",
              "</svg>\n",
              "  </button>\n",
              "\n",
              "<style>\n",
              "  .colab-df-quickchart {\n",
              "      --bg-color: #E8F0FE;\n",
              "      --fill-color: #1967D2;\n",
              "      --hover-bg-color: #E2EBFA;\n",
              "      --hover-fill-color: #174EA6;\n",
              "      --disabled-fill-color: #AAA;\n",
              "      --disabled-bg-color: #DDD;\n",
              "  }\n",
              "\n",
              "  [theme=dark] .colab-df-quickchart {\n",
              "      --bg-color: #3B4455;\n",
              "      --fill-color: #D2E3FC;\n",
              "      --hover-bg-color: #434B5C;\n",
              "      --hover-fill-color: #FFFFFF;\n",
              "      --disabled-bg-color: #3B4455;\n",
              "      --disabled-fill-color: #666;\n",
              "  }\n",
              "\n",
              "  .colab-df-quickchart {\n",
              "    background-color: var(--bg-color);\n",
              "    border: none;\n",
              "    border-radius: 50%;\n",
              "    cursor: pointer;\n",
              "    display: none;\n",
              "    fill: var(--fill-color);\n",
              "    height: 32px;\n",
              "    padding: 0;\n",
              "    width: 32px;\n",
              "  }\n",
              "\n",
              "  .colab-df-quickchart:hover {\n",
              "    background-color: var(--hover-bg-color);\n",
              "    box-shadow: 0 1px 2px rgba(60, 64, 67, 0.3), 0 1px 3px 1px rgba(60, 64, 67, 0.15);\n",
              "    fill: var(--button-hover-fill-color);\n",
              "  }\n",
              "\n",
              "  .colab-df-quickchart-complete:disabled,\n",
              "  .colab-df-quickchart-complete:disabled:hover {\n",
              "    background-color: var(--disabled-bg-color);\n",
              "    fill: var(--disabled-fill-color);\n",
              "    box-shadow: none;\n",
              "  }\n",
              "\n",
              "  .colab-df-spinner {\n",
              "    border: 2px solid var(--fill-color);\n",
              "    border-color: transparent;\n",
              "    border-bottom-color: var(--fill-color);\n",
              "    animation:\n",
              "      spin 1s steps(1) infinite;\n",
              "  }\n",
              "\n",
              "  @keyframes spin {\n",
              "    0% {\n",
              "      border-color: transparent;\n",
              "      border-bottom-color: var(--fill-color);\n",
              "      border-left-color: var(--fill-color);\n",
              "    }\n",
              "    20% {\n",
              "      border-color: transparent;\n",
              "      border-left-color: var(--fill-color);\n",
              "      border-top-color: var(--fill-color);\n",
              "    }\n",
              "    30% {\n",
              "      border-color: transparent;\n",
              "      border-left-color: var(--fill-color);\n",
              "      border-top-color: var(--fill-color);\n",
              "      border-right-color: var(--fill-color);\n",
              "    }\n",
              "    40% {\n",
              "      border-color: transparent;\n",
              "      border-right-color: var(--fill-color);\n",
              "      border-top-color: var(--fill-color);\n",
              "    }\n",
              "    60% {\n",
              "      border-color: transparent;\n",
              "      border-right-color: var(--fill-color);\n",
              "    }\n",
              "    80% {\n",
              "      border-color: transparent;\n",
              "      border-right-color: var(--fill-color);\n",
              "      border-bottom-color: var(--fill-color);\n",
              "    }\n",
              "    90% {\n",
              "      border-color: transparent;\n",
              "      border-bottom-color: var(--fill-color);\n",
              "    }\n",
              "  }\n",
              "</style>\n",
              "\n",
              "  <script>\n",
              "    async function quickchart(key) {\n",
              "      const quickchartButtonEl =\n",
              "        document.querySelector('#' + key + ' button');\n",
              "      quickchartButtonEl.disabled = true;  // To prevent multiple clicks.\n",
              "      quickchartButtonEl.classList.add('colab-df-spinner');\n",
              "      try {\n",
              "        const charts = await google.colab.kernel.invokeFunction(\n",
              "            'suggestCharts', [key], {});\n",
              "      } catch (error) {\n",
              "        console.error('Error during call to suggestCharts:', error);\n",
              "      }\n",
              "      quickchartButtonEl.classList.remove('colab-df-spinner');\n",
              "      quickchartButtonEl.classList.add('colab-df-quickchart-complete');\n",
              "    }\n",
              "    (() => {\n",
              "      let quickchartButtonEl =\n",
              "        document.querySelector('#df-10d77961-3432-4841-aa50-d734b56bbd83 button');\n",
              "      quickchartButtonEl.style.display =\n",
              "        google.colab.kernel.accessAllowed ? 'block' : 'none';\n",
              "    })();\n",
              "  </script>\n",
              "</div>\n",
              "\n",
              "    </div>\n",
              "  </div>\n"
            ],
            "application/vnd.google.colaboratory.intrinsic+json": {
              "type": "dataframe",
              "summary": "{\n  \"name\": \"df\",\n  \"rows\": 8,\n  \"fields\": [\n    {\n      \"column\": \"Spotify Streams\",\n      \"properties\": {\n        \"dtype\": \"number\",\n        \"std\": 34196.63607841364,\n        \"min\": 175.0,\n        \"max\": 98729.0,\n        \"num_unique_values\": 8,\n        \"samples\": [\n          50741.36571428571,\n          50424.0,\n          175.0\n        ],\n        \"semantic_type\": \"\",\n        \"description\": \"\"\n      }\n    },\n    {\n      \"column\": \"Youtube Music Plays\",\n      \"properties\": {\n        \"dtype\": \"number\",\n        \"std\": 5215.068378668178,\n        \"min\": 72.0,\n        \"max\": 14846.0,\n        \"num_unique_values\": 8,\n        \"samples\": [\n          7723.754285714285,\n          8106.0,\n          175.0\n        ],\n        \"semantic_type\": \"\",\n        \"description\": \"\"\n      }\n    },\n    {\n      \"column\": \"Joox Streams\",\n      \"properties\": {\n        \"dtype\": \"number\",\n        \"std\": 1686.6123425793828,\n        \"min\": 36.0,\n        \"max\": 4966.0,\n        \"num_unique_values\": 8,\n        \"samples\": [\n          2469.08,\n          2560.0,\n          175.0\n        ],\n        \"semantic_type\": \"\",\n        \"description\": \"\"\n      }\n    },\n    {\n      \"column\": \"Apple Music Streams\",\n      \"properties\": {\n        \"dtype\": \"number\",\n        \"std\": 6780.558163688054,\n        \"min\": 175.0,\n        \"max\": 19956.0,\n        \"num_unique_values\": 8,\n        \"samples\": [\n          9324.068571428572,\n          8951.0,\n          175.0\n        ],\n        \"semantic_type\": \"\",\n        \"description\": \"\"\n      }\n    }\n  ]\n}"
            }
          },
          "metadata": {},
          "execution_count": 6
        }
      ]
    },
    {
      "cell_type": "markdown",
      "source": [
        "## Pre-processing"
      ],
      "metadata": {
        "id": "Ipe6GpbcnSnf"
      }
    },
    {
      "cell_type": "markdown",
      "source": [
        "Null Values"
      ],
      "metadata": {
        "id": "Zh92N-b0nZDg"
      }
    },
    {
      "cell_type": "code",
      "source": [
        "df.isnull().sum()"
      ],
      "metadata": {
        "colab": {
          "base_uri": "https://localhost:8080/"
        },
        "id": "Xz-KZ8gVnWI0",
        "outputId": "037283b5-cde0-4238-97e1-42a569932fea"
      },
      "execution_count": 7,
      "outputs": [
        {
          "output_type": "execute_result",
          "data": {
            "text/plain": [
              "Nama                   0\n",
              "Spotify Streams        0\n",
              "Youtube Music Plays    0\n",
              "Joox Streams           0\n",
              "Apple Music Streams    0\n",
              "dtype: int64"
            ]
          },
          "metadata": {},
          "execution_count": 7
        }
      ]
    },
    {
      "cell_type": "markdown",
      "source": [
        "Similarity Score"
      ],
      "metadata": {
        "id": "-oElY7nQnk_6"
      }
    },
    {
      "cell_type": "code",
      "source": [
        "data = pd.DataFrame(df).set_index('Nama')"
      ],
      "metadata": {
        "id": "SG3g6T-qppuJ"
      },
      "execution_count": 8,
      "outputs": []
    },
    {
      "cell_type": "code",
      "source": [
        "similarity_matrix = cosine_similarity(data)"
      ],
      "metadata": {
        "id": "RCVRH0TjSNXC"
      },
      "execution_count": 9,
      "outputs": []
    },
    {
      "cell_type": "code",
      "source": [
        "similarity_df = pd.DataFrame(similarity_matrix, index=df.index, columns=df.index)\n",
        "\n",
        "print(similarity_df)"
      ],
      "metadata": {
        "colab": {
          "base_uri": "https://localhost:8080/"
        },
        "id": "ICMBotGDSUYp",
        "outputId": "adcdf08a-3fa4-4200-e863-60e755881825"
      },
      "execution_count": 10,
      "outputs": [
        {
          "output_type": "stream",
          "name": "stdout",
          "text": [
            "          0         1         2         3         4         5         6    \\\n",
            "0    1.000000  0.885918  0.949603  0.907443  0.908723  0.982339  0.830679   \n",
            "1    0.885918  1.000000  0.938003  0.619454  0.989164  0.929358  0.908484   \n",
            "2    0.949603  0.938003  1.000000  0.809988  0.973156  0.960557  0.951079   \n",
            "3    0.907443  0.619454  0.809988  1.000000  0.683727  0.844766  0.659025   \n",
            "4    0.908723  0.989164  0.973156  0.683727  1.000000  0.951207  0.955854   \n",
            "..        ...       ...       ...       ...       ...       ...       ...   \n",
            "170  0.242221  0.224188  0.306922  0.275416  0.314305  0.367993  0.506398   \n",
            "171  0.127146  0.143404  0.200407  0.149726  0.226064  0.264697  0.423339   \n",
            "172  0.139390  0.178295  0.228753  0.143230  0.259935  0.281440  0.458971   \n",
            "173  0.204020  0.205090  0.270325  0.224572  0.289663  0.336751  0.479250   \n",
            "174  0.169640  0.190906  0.249635  0.182019  0.274569  0.307282  0.470533   \n",
            "\n",
            "          7         8         9    ...       165       166       167  \\\n",
            "0    0.811060  0.835501  0.905400  ...  0.208247  0.079378  0.161924   \n",
            "1    0.581226  0.672953  0.939536  ...  0.205202  0.107284  0.171912   \n",
            "2    0.800931  0.861715  0.969486  ...  0.279466  0.159416  0.238530   \n",
            "3    0.914095  0.879852  0.736585  ...  0.235139  0.102017  0.186430   \n",
            "4    0.682815  0.768474  0.976512  ...  0.293262  0.188869  0.258061   \n",
            "..        ...       ...       ...  ...       ...       ...       ...   \n",
            "170  0.601187  0.625806  0.495553  ...  0.999106  0.984248  0.995808   \n",
            "171  0.492280  0.520475  0.405662  ...  0.995840  0.998745  0.998953   \n",
            "172  0.492235  0.529095  0.433974  ...  0.994897  0.997147  0.998132   \n",
            "173  0.554509  0.582370  0.468209  ...  0.999496  0.991728  0.998708   \n",
            "174  0.523475  0.556294  0.451107  ...  0.998263  0.995685  0.999600   \n",
            "\n",
            "          168       169       170       171       172       173       174  \n",
            "0    0.222760  0.129894  0.242221  0.127146  0.139390  0.204020  0.169640  \n",
            "1    0.176212  0.149293  0.224188  0.143404  0.178295  0.205090  0.190906  \n",
            "2    0.268280  0.206961  0.306922  0.200407  0.228753  0.270325  0.249635  \n",
            "3    0.280803  0.150522  0.275416  0.149726  0.143230  0.224572  0.182019  \n",
            "4    0.267824  0.232500  0.314305  0.226064  0.259935  0.289663  0.274569  \n",
            "..        ...       ...       ...       ...       ...       ...       ...  \n",
            "170  0.997167  0.991777  1.000000  0.991478  0.989843  0.998173  0.994961  \n",
            "171  0.989022  0.999908  0.991478  1.000000  0.998155  0.996873  0.998589  \n",
            "172  0.982843  0.998800  0.989843  0.998155  1.000000  0.995412  0.999055  \n",
            "173  0.995003  0.996930  0.998173  0.996873  0.995412  1.000000  0.998595  \n",
            "174  0.989574  0.999024  0.994961  0.998589  0.999055  0.998595  1.000000  \n",
            "\n",
            "[175 rows x 175 columns]\n"
          ]
        }
      ]
    },
    {
      "cell_type": "markdown",
      "source": [
        "## Artist yang perlu disupport"
      ],
      "metadata": {
        "id": "IlVhYO9wYa4H"
      }
    },
    {
      "cell_type": "code",
      "source": [
        "similarity_df_unstacked = similarity_df.unstack().reset_index()\n",
        "similarity_df_unstacked.columns = ['Nama1', 'Nama2', 'Similarity']\n",
        "\n",
        "similarity_df_filtered = similarity_df_unstacked[similarity_df_unstacked['Nama1'] != similarity_df_unstacked['Nama2']]\n",
        "\n",
        "top_6_similarity = similarity_df_filtered.sort_values(by='Similarity', ascending=False).head(6)\n",
        "\n",
        "print(\"\\n6 Skor Similarity Artis yang Di-support:\")\n",
        "print(top_6_similarity)"
      ],
      "metadata": {
        "colab": {
          "base_uri": "https://localhost:8080/"
        },
        "id": "4G_lVUXaStw5",
        "outputId": "1a606f5a-e63f-4184-bca3-72784237050e"
      },
      "execution_count": 11,
      "outputs": [
        {
          "output_type": "stream",
          "name": "stdout",
          "text": [
            "\n",
            "6 Skor Similarity Artis yang Di-support:\n",
            "       Nama1  Nama2  Similarity\n",
            "20764    118    114    0.999982\n",
            "20068    114    118    0.999982\n",
            "21100    120    100    0.999978\n",
            "17620    100    120    0.999978\n",
            "24292    138    142    0.999973\n",
            "24988    142    138    0.999973\n"
          ]
        }
      ]
    },
    {
      "cell_type": "code",
      "source": [
        "def get_penyanyi_by_index(df, index):\n",
        "    return df.Nama[index]\n",
        "\n",
        "plt.figure(figsize=(10, 6))\n",
        "\n",
        "nama1_indices = top_6_similarity['Nama1'].values\n",
        "nama2_indices = top_6_similarity['Nama2'].values\n",
        "\n",
        "nama_penyanyi_pasangan = [\n",
        "    f\"{get_penyanyi_by_index(df, i)} & {get_penyanyi_by_index(df, j)}\"\n",
        "    for i, j in zip(nama1_indices, nama2_indices)\n",
        "]\n",
        "\n",
        "plt.bar(\n",
        "    nama_penyanyi_pasangan,\n",
        "    top_6_similarity['Similarity'],\n",
        "    color='skyblue'\n",
        ")\n",
        "plt.xlabel('Pasangan Artis')\n",
        "plt.ylabel('Skor Similarity')\n",
        "plt.title('6 Skor Similarity Tertinggi antara Pasangan Artis untuk Didukung Iramanesia')\n",
        "plt.xticks(rotation=45, ha='right')\n",
        "plt.show()\n"
      ],
      "metadata": {
        "colab": {
          "base_uri": "https://localhost:8080/",
          "height": 698
        },
        "id": "5htUUVlpbz9k",
        "outputId": "5d37a2a5-3ed8-431f-92d6-bbaa6cc078d1"
      },
      "execution_count": 12,
      "outputs": [
        {
          "output_type": "display_data",
          "data": {
            "text/plain": [
              "<Figure size 1000x600 with 1 Axes>"
            ],
            "image/png": "[encoded data removed]"
          },
          "metadata": {}
        }
      ]
    },
    {
      "cell_type": "markdown",
      "source": [
        "## Artist yang akan menjadi konten di Instagram"
      ],
      "metadata": {
        "id": "tagj8RonWDyt"
      }
    },
    {
      "cell_type": "code",
      "source": [
        "data['Total Pendengar'] = data[['Spotify Streams', 'Youtube Music Plays', 'Joox Streams', 'Apple Music Streams' ]].sum(axis=1)\n",
        "\n",
        "data['Skor Popularitas'] = data['Total Pendengar'] / data['Total Pendengar'].max()\n",
        "\n",
        "df_sorted = data.sort_values(by='Skor Popularitas', ascending=False)\n",
        "\n",
        "top_6_penyanyi = df_sorted.head(6)\n",
        "top_6_penyanyi = top_6_penyanyi[['Skor Popularitas']]\n",
        "\n",
        "print(\"\\n6 Rekomendasi Artis untuk Instagram Konten:\")\n",
        "print(top_6_penyanyi)"
      ],
      "metadata": {
        "colab": {
          "base_uri": "https://localhost:8080/"
        },
        "id": "usmzRMtNZvgQ",
        "outputId": "0b976424-066c-4ebe-b1ab-0907a872160b"
      },
      "execution_count": 13,
      "outputs": [
        {
          "output_type": "stream",
          "name": "stdout",
          "text": [
            "\n",
            "6 Rekomendasi Artis untuk Instagram Konten:\n",
            "                   Skor Popularitas\n",
            "Nama                               \n",
            "Lyodra                     1.000000\n",
            "Rendy Pandugo              0.962433\n",
            "Purpla                     0.955387\n",
            "Rebelsuns.                 0.953094\n",
            "The Brandals               0.938903\n",
            "Harry Roesli Gang          0.937922\n"
          ]
        }
      ]
    },
    {
      "cell_type": "code",
      "source": [
        "plt.figure(figsize=(10, 6))\n",
        "plt.bar(top_6_penyanyi.index, top_6_penyanyi['Skor Popularitas'], color='skyblue')\n",
        "plt.xlabel('Nama Penyanyi')\n",
        "plt.ylabel('Skor Popularitas')\n",
        "plt.title('6 Rekomendasi Artis untuk Instagram Konten Berdasarkan Skor Popularitas')\n",
        "plt.xticks(rotation=45)\n",
        "plt.show()"
      ],
      "metadata": {
        "colab": {
          "base_uri": "https://localhost:8080/",
          "height": 648
        },
        "id": "DKZdEGHnbtLB",
        "outputId": "1019056c-3365-4b18-f015-76d5062fcdbf"
      },
      "execution_count": 14,
      "outputs": [
        {
          "output_type": "display_data",
          "data": {
            "text/plain": [
              "<Figure size 1000x600 with 1 Axes>"
            ],
            "image/png": "[encoded data removed]"
          },
          "metadata": {}
        }
      ]
    }
  ]
}